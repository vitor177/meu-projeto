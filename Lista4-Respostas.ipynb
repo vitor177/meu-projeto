{
 "cells": [
  {
   "cell_type": "markdown",
   "id": "fcb3cdb5-9b3e-4050-bd02-702462387154",
   "metadata": {},
   "source": [
    "# Lista de Exercícios 4"
   ]
  },
  {
   "cell_type": "markdown",
   "id": "3b5e079d-c101-4264-bc6a-c109c131c8fe",
   "metadata": {
    "jp-MarkdownHeadingCollapsed": true
   },
   "source": [
    "## Arquitetura de Software"
   ]
  },
  {
   "cell_type": "markdown",
   "id": "76206399-bdcf-4f94-b7cc-7a4a1615eb7f",
   "metadata": {},
   "source": [
    "### Exercício 1: Estilos arquiteturais\n",
    "Qual é o impacto da escolha de um estilo arquitetural específico (como microserviços, arquitetura monolítica ou serverless) na escalabilidade, manutenção e segurança de um sistema de software? \n",
    "\n",
    "Discuta os prós e contras de cada abordagem em relação a esses aspectos."
   ]
  },
  {
   "cell_type": "markdown",
   "id": "60e4a8ca-74f2-4600-a691-d4ee2bff4171",
   "metadata": {},
   "source": [
    "***Resposta**: \n",
    "\n",
    "A arquitetura monolítica, onde todos os componentes são integrados em uma única unidade, facilita o início do desenvolvimento, mas torna a escalabilidade horizontal complexa e a manutenção difícil conforme o sistema cresce. Além disso, a segurança pode ser comprometida devido à vulnerabilidade em uma única parte do sistema.\n",
    "\n",
    "Por outro lado, a arquitetura de microserviços divide a aplicação em serviços independentes, facilitando a escalabilidade vertical e horizontal, permitindo a manutenção independente de cada serviço e reduzindo a superfície de ataque. No entanto, a complexidade na comunicação entre serviços e a gestão das dependências podem ser desafios a serem superados.\n",
    "\n",
    "Já a arquitetura serverless, gerenciada pelo provedor de cloud, oferece escalabilidade automática, simplificando a manutenção da infraestrutura. No entanto, a dependência do provedor pode ser uma limitação, e questões de segurança como configurações erradas de permissões precisam ser consideradas.*\n"
   ]
  },
  {
   "cell_type": "markdown",
   "id": "1b8ac18d-5e8e-44c7-af51-2828d2715b74",
   "metadata": {},
   "source": [
    "### Exercício 2: Manutenibilidade de um software\n",
    "\n",
    "Como a manutenibilidade de um sistema de software é afetada pelas qualidades arquiteturais como acoplamento e coesão? \n",
    "\n",
    "Cite exemplos de como diferentes níveis de acoplamento e coesão podem influenciar a facilidade de manutenção."
   ]
  },
  {
   "cell_type": "markdown",
   "id": "0364d5c6-d262-4ab0-bcd2-9b1a3e9f87a5",
   "metadata": {},
   "source": [
    "***Resposta***:\n",
    " \n",
    "A manutenibilidade de um sistema de software é grandemente afetada pelas qualidades arquiteturais de acoplamento e coesão. O acoplamento refere-se ao grau de interdependência entre os módulos de um sistema. Um acoplamento menor indica que os módulos são mais independentes uns dos outros, o que facilita a alteração, compreensão e teste do sistema, pois mudanças em um módulo não afetam outros módulos. Por outro lado, um acoplamento alto implica que alterações em um módulo frequentemente requerem mudanças nos módulos interdependentes, tornando a manutenção mais complexa e suscetível a efeitos cascata. Já a coesão se refere ao grau em que os elementos dentro de um módulo estão intimamente relacionados e focados em uma única tarefa. Alta coesão facilita a compreensão e modificação do módulo, pois todos os seus elementos estão relacionados a uma única funcionalidade. Módulos com baixa coesão, que contêm funcionalidades não relacionadas, são mais difíceis de entender e modificar, aumentando a complexidade da manutenção.\n",
    "\n",
    "Um exemplo de como diferentes níveis de acoplamento podem influenciar a facilidade de manutenção é um sistema onde o módulo de pagamento depende diretamente do módulo de carrinho de compras para calcular impostos. Nesse caso, qualquer alteração na lógica de impostos no módulo de carrinho exigirá mudanças no módulo de pagamento, caracterizando um acoplamento alto. Por outro lado, em um sistema onde o módulo de interface do usuário se comunica com o módulo de lógica de negócios apenas através de uma API bem definida, as mudanças na lógica de negócios não exigem alterações na interface do usuário, exemplificando um acoplamento baixo.\n",
    "\n",
    "Para ilustrar os efeitos da coesão, considere um módulo que gerencia tanto a lógica de autenticação quanto a lógica de geração de relatórios, o que caracteriza baixa coesão. Modificações na lógica de autenticação podem afetar inadvertidamente a geração de relatórios, dificultando a manutenção. Em contraste, um módulo dedicado exclusivamente à autenticação de usuários, que inclui verificação de credenciais e geração de tokens de sessão, apresenta alta coesão. As modificações nesse módulo são previsíveis e limitadas ao contexto da autenticação, facilitando a manutenção. Portanto, para maximizar a manutenibilidade, é essencial projetar a arquitetura de forma a minimizar o acoplamento entre os módulos e maximizar a coesão dentro de cada módulo."
   ]
  },
  {
   "cell_type": "markdown",
   "id": "1932b161-6796-4a66-8fe6-f16b82bcd044",
   "metadata": {
    "jp-MarkdownHeadingCollapsed": true
   },
   "source": [
    "## Design de Sistemas envolvendo os Princípios de Design (SOLID)"
   ]
  },
  {
   "cell_type": "markdown",
   "id": "dffb3dc0-a092-4488-962d-22e1514cad40",
   "metadata": {},
   "source": [
    "### Exercício 3: Princípio da Responsabilidade Única\n",
    "\n",
    "Explique o princípio da Responsabilidade Única (*Single Responsibility Principle*) e como ele contribui para a robustez e a manutenção de um sistema de software. \n",
    "\n",
    "Forneça um exemplo de uma classe que viola esse princípio e descreva como refatorá-la para seguir o SRP."
   ]
  },
  {
   "cell_type": "markdown",
   "id": "fe2f9e0b-e5fd-493c-ac34-388fa16444a2",
   "metadata": {},
   "source": [
    "***Resposta***: O princípio da Responsabilidade Única (Single Responsibility Principle - SRP) é um dos cinco princípios de design de software conhecidos como SOLID. Esse princípio afirma que uma classe deve ter apenas uma razão para mudar, ou seja, ela deve ser responsável por apenas uma parte da funcionalidade fornecida pelo software. Em termos práticos, isso significa que cada classe deve ter uma única responsabilidade ou propósito bem definido.\n",
    "\n",
    "Ele facilita a manutenção, pois classes com uma única responsabilidade são mais fáceis de entender e modificar. Quando uma classe faz apenas uma coisa, é mais simples identificar onde as mudanças precisam ser feitas. O SRP reduz o impacto de mudanças, já que cada classe é responsável por uma única funcionalidade. Isso significa que alterações em uma parte do sistema afetam apenas a classe correspondente e não se propagam para outras partes do sistema. E também, ele melhora a testabilidade, pois classes com responsabilidades bem definidas são mais fáceis de testar de forma isolada. Testes unitários podem ser escritos para cada classe individualmente, assegurando que cada parte do sistema funcione corretamente. Por fim, o SRP promove a reutilização de código, pois classes com uma única responsabilidade tendem a ser mais reutilizáveis, já que elas fornecem funcionalidades específicas que podem ser aproveitadas em diferentes contextos.\n",
    "\n",
    "*Exemplo de Violação:*\n",
    "```python\n",
    "class Relatorio:\n",
    "    def __init__(self, dados):\n",
    "        self.dados = dados\n",
    "\n",
    "    def gerar_relatorio(self):\n",
    "        # Gera o relatório\n",
    "        print(\"Gerando relatório\")\n",
    "\n",
    "    def salvar_relatorio(self):\n",
    "        # Salva o relatório em um arquivo\n",
    "        print(\"Salvando relatório em arquivo\")\n",
    "\n",
    "    def enviar_relatorio_email(self, email):\n",
    "        # Envia o relatório por email\n",
    "        print(f\"Enviando relatório para {email}\")\n",
    "\n",
    "```\n",
    "*Problema deste código:* A classe Relatorio viola o SRP porque ela possui múltiplas responsabilidades, como gerar o relatório, salvar em um arquivo e enviar por email\n",
    "\n",
    "*Exemplo de código refatorado:*\n",
    "```python\n",
    "class GeradorRelatorio:\n",
    "    def gerar(self, dados):\n",
    "        # Gera o relatório\n",
    "        print(\"Gerando relatório\")\n",
    "        return \"Relatório gerado com dados: \" + str(dados)\n",
    "\n",
    "class ArquivoRelatorio:\n",
    "    def salvar(self, relatorio):\n",
    "        # Salva o relatório em um arquivo\n",
    "        print(\"Salvando relatório em arquivo\")\n",
    "\n",
    "class EmailRelatorio:\n",
    "    def enviar(self, relatorio, email):\n",
    "        # Envia o relatório por email\n",
    "        print(f\"Enviando relatório para {email}\")\n",
    "\n",
    "# Classe de coordenação\n",
    "class ProcessadorRelatorio:\n",
    "    def __init__(self, dados):\n",
    "        self.dados = dados\n",
    "        self.gerador = GeradorRelatorio()\n",
    "        self.arquivo = ArquivoRelatorio()\n",
    "        self.email = EmailRelatorio()\n",
    "\n",
    "    def processar(self, email):\n",
    "        relatorio = self.gerador.gerar(self.dados)\n",
    "        self.arquivo.salvar(relatorio)\n",
    "        self.email.enviar(relatorio, email)\n",
    "```\n",
    "*Resultado desta refatoração:*\n",
    "\n",
    "Agora cada classe possui uma funcionalidade definida. Além disso, foi criada a classe ProcessadorRelatorio para coordenar essas operações. Com essa refatoração, cada classe tem uma responsabilidade única, o que melhora a clareza e a coesão do código. Alterações em uma parte do sistema (por exemplo, mudanças na forma de salvar o relatório) não afetam outras partes (como a geração ou o envio do relatório), facilitando a manutenção. Além disso, cada classe pode ser testada de forma isolada, melhorando a robustez e a confiabilidade do sistema."
   ]
  },
  {
   "cell_type": "markdown",
   "id": "82401b30-c6cb-46d7-b0bb-b67f4394be94",
   "metadata": {},
   "source": [
    "### Exercício 4: Princípio da Inversão de Dependência\n",
    "\n",
    "Descreva o princípio da Inversão de Dependência (*Dependency Inversion Principle*) e discuta como ele pode melhorar a flexibilidade e testabilidade de um sistema de software.  \n",
    "\n",
    "Inclua um exemplo de código que segue esse princípio."
   ]
  },
  {
   "cell_type": "markdown",
   "id": "b955f569-2f5d-4dcc-8d9e-31fba9b618cb",
   "metadata": {},
   "source": [
    "***Resposta**: O Princípio da Inversão de Dependência afirma que as dependências de um sistema devem ser direcionadas de forma que as partes de alto nível do sistema (aquelas que contêm lógica de negócio ou regras de aplicação) sejam independentes das partes de baixo nível (aquelas que implementam detalhes específicos). Isso é alcançado através do uso de abstrações.*\n",
    "\n",
    "Ao depender de abstrações, é fácil substituir uma implementação por outra. Por exemplo, trocar um banco de dados por outro ou mudar a forma de envio de emails sem alterar o código do módulo de alto nível. ALém disso mudanças em módulos de baixo nível não impactam diretamente os módulos de alto nível, desde que a interface ou abstração permaneça constante.\n",
    "\n",
    "Testes podem ser realizados de forma isolada, focando apenas na funcionalidade específica de cada módulo, sem necessidade de configurar todo o ambiente real. Também é possível testar a lógica de negócio sem se preocupar com os detalhes das implementações reais.\n",
    "\n",
    "*Exemplo de Código:*\n",
    "```python\n",
    "from abc import ABC, abstractmethod\n",
    "\n",
    "class NotificacaoService(ABC):\n",
    "    @abstractmethod\n",
    "    def enviar_notificacao(self, destinatario, mensagem):\n",
    "        pass\n",
    "\n",
    "class EmailService(NotificacaoService):\n",
    "    def enviar_notificacao(self, destinatario, mensagem):\n",
    "        # Código para enviar email\n",
    "        print(f\"Enviando email para {destinatario}: {mensagem}\")\n",
    "\n",
    "class PedidoProcessor:\n",
    "    def __init__(self, notificacao_service: NotificacaoService):\n",
    "        self.notificacao_service = notificacao_service\n",
    "\n",
    "    def processar_pedido(self, pedido):\n",
    "        # Código para processar o pedido\n",
    "        self.notificacao_service.enviar_notificacao(pedido.cliente_email, \"Seu pedido foi processado\")\n",
    "\n",
    "```"
   ]
  },
  {
   "cell_type": "markdown",
   "id": "92723368-228d-4f65-8be3-2aea90d0d32b",
   "metadata": {},
   "source": [
    "### Exercício 5: Princípio de Substituição de Liskov\n",
    "\n",
    "O princípio de Substituição de Liskov (*Liskov Substitution Principle*) é fundamental para a correta aplicação da herança em sistemas orientados a objetos. Explique este princípio e dê um exemplo prático onde a violação do LSP pode levar a problemas no sistema. Como você corrigiria esse exemplo?"
   ]
  },
  {
   "cell_type": "markdown",
   "id": "b995c7b5-6b93-401f-b9fa-74f840c93e5a",
   "metadata": {},
   "source": [
    "***Resposta**: sua resposta*\n",
    "\n",
    "*Exemplo de Violação:*\n",
    "```python\n",
    "class X:\n",
    "\n",
    "```\n",
    "*Problema deste código:*\n",
    "\n",
    "*Exemplo de código refatorado:*\n",
    "```python\n",
    "class X:\n",
    "\n",
    "```\n",
    "*Resultado desta refatoração:*"
   ]
  },
  {
   "cell_type": "markdown",
   "id": "fb9ef2bd-e472-44a2-bf85-4bfe871cf7f5",
   "metadata": {
    "jp-MarkdownHeadingCollapsed": true
   },
   "source": [
    "## Microservices e Serverless"
   ]
  },
  {
   "cell_type": "markdown",
   "id": "cd80ecf2-2705-4a12-a7e9-e47e705894d9",
   "metadata": {},
   "source": [
    "### Exercício 6: Escalabilidade e resiliência da arquitetura de Microservices\n",
    "\n",
    "Explique como a adoção de uma arquitetura de Microservices pode impactar positivamente a escalabilidade e a resiliência de um sistema de software. Forneça exemplos concretos para ilustrar sua resposta."
   ]
  },
  {
   "cell_type": "markdown",
   "id": "850d3080-705a-4d5a-9128-eb8c1979c57d",
   "metadata": {},
   "source": [
    "***Resposta**: sua resposta*"
   ]
  },
  {
   "cell_type": "markdown",
   "id": "48b13d2c-4bc8-47da-a313-f638cdff2abe",
   "metadata": {},
   "source": [
    "### Exercício 7: Benefícios da arquitetura Serverless\n",
    "\n",
    "Quais são os principais benefícios da adoção de uma arquitetura Serverless para desenvolvimento de aplicações modernas? Discuta pelo menos três benefícios e forneça exemplos práticos de como cada um pode ser alcançado."
   ]
  },
  {
   "cell_type": "markdown",
   "id": "62ff5c24-c1ed-44b3-b238-65ce8149d09c",
   "metadata": {},
   "source": [
    "***Resposta**: sua resposta*\n",
    "\n",
    "- ***Benefício 1**: sua resposta*\n",
    "\n",
    "- ***Benefício 2**: sua resposta*\n",
    "\n",
    "- ***Benefício 3**: sua resposta*"
   ]
  },
  {
   "cell_type": "markdown",
   "id": "89a31c55-be86-480f-80f9-1b27dddae689",
   "metadata": {},
   "source": [
    "### Exercício 8: Desafios e limitações da arquitetura Serveless\n",
    "\n",
    "Discuta os principais desafios e limitações de uma arquitetura serverless. Como esses desafios podem ser abordados para garantir que a arquitetura serverless seja eficaz? Forneça exemplos práticos para ilustrar suas estratégias."
   ]
  },
  {
   "cell_type": "markdown",
   "id": "b54c5332-afbb-4060-8903-630a62c99a5b",
   "metadata": {},
   "source": [
    "***Resposta**: sua resposta*\n",
    "\n",
    "- ***Desafio 1**: sua resposta*\n",
    "    - ***Estratégia**: sua resposta*\n",
    "- ***Desafio 2**: sua resposta*\n",
    "    - ***Estratégia**: sua resposta*"
   ]
  },
  {
   "cell_type": "markdown",
   "id": "a9cf7d6d-f489-4fba-9125-47ee3756386a",
   "metadata": {
    "jp-MarkdownHeadingCollapsed": true
   },
   "source": [
    "## Ferramentas Git"
   ]
  },
  {
   "cell_type": "markdown",
   "id": "8da52cec-5976-4e71-920a-8409448c04cc",
   "metadata": {},
   "source": [
    "### Exercício 9: Criação e Clonagem de Repositórios\n",
    "\n",
    "Você é um desenvolvedor que acabou de iniciar um novo projeto e decidiu usar o GitHub para hospedar o repositório do projeto.\n",
    "\n",
    "1. Crie um repositório chamado `meu-projeto` no GitHub.\n",
    "2. Clone o repositório recém-criado para o seu ambiente de desenvolvimento local.\n",
    "3. Crie um arquivo chamado `README.md` no diretório do projeto local, adicione algum conteúdo ao arquivo e faça commit das mudanças.\n",
    "4. Envie (push) o commit para o repositório remoto no GitHub."
   ]
  },
  {
   "cell_type": "markdown",
   "id": "2e675df4-5aa8-43fd-869b-44ac013ca677",
   "metadata": {},
   "source": [
    "***Resposta**:*\n",
    "1. Acessar o GitHub...\n",
    "2. Clonar o repositório:\n",
    "```bash\n",
    "git ???\n",
    "```\n",
    "3. Criar e comitar o `README.md`:\n",
    "```bash\n",
    "echo \"# Meu Projeto\" > README.md\n",
    "git ???\n",
    "```\n",
    "4. Fazer push do commit:\n",
    "```bash\n",
    "git ???\n",
    "```"
   ]
  },
  {
   "cell_type": "markdown",
   "id": "0c417f80-1124-470a-9f2b-49e6d020196b",
   "metadata": {},
   "source": [
    "### Exercício 10: Gerenciamento de Branches e Merge Requests\n",
    "\n",
    "Você está trabalhando em uma nova funcionalidade e precisa criar um branch separado para isso. Depois de concluir a funcionalidade, você deverá criar um Merge Request (GitLab) ou Pull Request (GitHub) para integrar as mudanças ao branch principal.\n",
    "\n",
    "1. No GitLab, crie um novo branch chamado `nova-funcionalidade` a partir do branch principal (`main`).\n",
    "2. Faça algumas alterações no branch `nova-funcionalidade` e comite essas mudanças.\n",
    "3. Crie um Merge Request no GitLab para mesclar o branch `nova-funcionalidade` no branch `main`."
   ]
  },
  {
   "cell_type": "markdown",
   "id": "d1a20d3a-e6f5-4e33-a6fd-fddad058356b",
   "metadata": {},
   "source": [
    "***Resposta**:*\n",
    "1. Criar um novo branch:\n",
    "```bash\n",
    "git ???\n",
    "```\n",
    "2. Fazer alterações e comitar:\n",
    "```bash\n",
    "echo \"Nova funcionalidade\" > funcionalidade.txt\n",
    "git ???\n",
    "```\n",
    "3. Criar Merge Request no GitLab:\n",
    "    - Acesse o projeto no GitLab.\n",
    "    - ???"
   ]
  }
 ],
 "metadata": {
  "kernelspec": {
   "display_name": "Python 3 (ipykernel)",
   "language": "python",
   "name": "python3"
  },
  "language_info": {
   "codemirror_mode": {
    "name": "ipython",
    "version": 3
   },
   "file_extension": ".py",
   "mimetype": "text/x-python",
   "name": "python",
   "nbconvert_exporter": "python",
   "pygments_lexer": "ipython3",
   "version": "3.12.3"
  }
 },
 "nbformat": 4,
 "nbformat_minor": 5
}
